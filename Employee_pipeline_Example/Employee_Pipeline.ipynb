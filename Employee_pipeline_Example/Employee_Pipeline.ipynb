{
 "cells": [
  {
   "cell_type": "code",
   "execution_count": 0,
   "metadata": {
    "application/vnd.databricks.v1+cell": {
     "cellMetadata": {},
     "inputWidgets": {},
     "nuid": "5f50bb1d-1c41-48a1-a79b-ce18c6321b72",
     "showTitle": false,
     "tableResultSettingsMap": {},
     "title": ""
    }
   },
   "outputs": [],
   "source": [
    "import dlt\n",
    "import pyspark.sql.functions as f"
   ]
  },
  {
   "cell_type": "code",
   "execution_count": 0,
   "metadata": {
    "application/vnd.databricks.v1+cell": {
     "cellMetadata": {},
     "inputWidgets": {},
     "nuid": "fcf0eb3c-8b0a-4b7b-aba6-77b2fc87a881",
     "showTitle": false,
     "tableResultSettingsMap": {},
     "title": ""
    }
   },
   "outputs": [],
   "source": [
    "@dlt.table(name=\"Employee_Bronze\")\n",
    "def bronze():\n",
    "    return spark.read.csv(\n",
    "        \"/Volumes/testing/default/employee/emp.csv\", \n",
    "        header=True, \n",
    "        inferSchema=True\n",
    "        )"
   ]
  },
  {
   "cell_type": "code",
   "execution_count": 0,
   "metadata": {
    "application/vnd.databricks.v1+cell": {
     "cellMetadata": {},
     "inputWidgets": {},
     "nuid": "73958232-1457-4bd1-84f1-483551352d51",
     "showTitle": false,
     "tableResultSettingsMap": {},
     "title": ""
    }
   },
   "outputs": [],
   "source": [
    "@dlt.table(name=\"Employee_Silver\")\n",
    "def silver():\n",
    "    cols_to_check = ['Gender', 'Senior_Management', 'Team']\n",
    "    null_count = sum([f.when(f.col(c).isNull(), 1).otherwise(0) for c in cols_to_check])\n",
    "    return (\n",
    "        dlt.read(\"Employee_Bronze\") \n",
    "        .dropna(subset=[\"First_Name\"]) \n",
    "        .filter(null_count < 2) \n",
    "        .na.fill({'Team': 'Unknown', 'Gender':'Unknown', 'Senior_Management': 'Unknown'})\n",
    "    )\n",
    "    # df=df.dropna(subset=[\"First_Name\"])\n",
    "    # df=df.filter(null_count < 2)\n",
    "    # df.na.fill({'Team': 'Unknown', 'Gender':'Unknown'})"
   ]
  },
  {
   "cell_type": "code",
   "execution_count": 0,
   "metadata": {
    "application/vnd.databricks.v1+cell": {
     "cellMetadata": {},
     "inputWidgets": {},
     "nuid": "cecd448d-00bb-42c7-80bf-ecd8de9ef297",
     "showTitle": false,
     "tableResultSettingsMap": {},
     "title": ""
    }
   },
   "outputs": [],
   "source": [
    "@dlt.table(name=\"Employee_Gold\")\n",
    "def gold():\n",
    "    return (\n",
    "        dlt.read(\"Employee_Silver\").\n",
    "        groupBy(\"Team\").\n",
    "        agg(f.round(f.avg(\"Salary\")).alias(\"Avg_Salary\"),\n",
    "            f.max(\"Salary\").alias(\"Max_Salary\"),\n",
    "            f.min(\"Salary\").alias(\"Min_Salary\"),\n",
    "            f.count(\"*\").alias(\"Total_Employees\"),\n",
    "            f.sum(\"Salary\").alias(\"Total_Salary\")\n",
    "        ).orderBy(\"Total_Salary\",ascending=False)\n",
    "    )"
   ]
  }
 ],
 "metadata": {
  "application/vnd.databricks.v1+notebook": {
   "computePreferences": null,
   "dashboards": [],
   "environmentMetadata": {
    "base_environment": "",
    "environment_version": "2"
   },
   "inputWidgetPreferences": null,
   "language": "python",
   "notebookMetadata": {
    "pythonIndentUnit": 4
   },
   "notebookName": "Employee_Pipeline",
   "widgets": {}
  },
  "language_info": {
   "name": "python"
  }
 },
 "nbformat": 4,
 "nbformat_minor": 0
}
