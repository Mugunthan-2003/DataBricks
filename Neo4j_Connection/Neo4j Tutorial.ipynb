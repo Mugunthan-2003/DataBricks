{
 "cells": [
  {
   "cell_type": "code",
   "execution_count": 0,
   "metadata": {
    "application/vnd.databricks.v1+cell": {
     "cellMetadata": {
      "byteLimit": 2048000,
      "rowLimit": 10000
     },
     "inputWidgets": {},
     "nuid": "449369b8-64f7-4cf1-a2ea-5f369b72ca7e",
     "showTitle": true,
     "tableResultSettingsMap": {},
     "title": "- Install Neo4j Python Package"
    }
   },
   "outputs": [],
   "source": [
    "%pip install neo4j"
   ]
  },
  {
   "cell_type": "code",
   "execution_count": 0,
   "metadata": {
    "application/vnd.databricks.v1+cell": {
     "cellMetadata": {
      "byteLimit": 2048000,
      "rowLimit": 10000
     },
     "inputWidgets": {},
     "nuid": "f1f908a7-46fe-4a28-bd1f-d5e256106e70",
     "showTitle": true,
     "tableResultSettingsMap": {},
     "title": "- Import Neo4j Library"
    }
   },
   "outputs": [],
   "source": [
    "from neo4j import *\n",
    "import json"
   ]
  },
  {
   "cell_type": "code",
   "execution_count": 0,
   "metadata": {
    "application/vnd.databricks.v1+cell": {
     "cellMetadata": {
      "byteLimit": 2048000,
      "rowLimit": 10000
     },
     "inputWidgets": {},
     "nuid": "5c90009f-bd40-4797-8db9-d32be642284d",
     "showTitle": true,
     "tableResultSettingsMap": {},
     "title": "import the neo4j AuraDB credentials"
    }
   },
   "outputs": [],
   "source": [
    "#/Workspace/Users/mugunthan2783@gmail.com/Neo4j/Neo4j_credentials.json\n",
    "with open(\"/Workspace/Users/mugunthan2783@gmail.com/Neo4j/Neo4j_credentials.json\") as f:\n",
    "  credentials = json.load(f)\n",
    "uri = credentials['uri']\n",
    "user = credentials['username']\n",
    "password = credentials['password']"
   ]
  },
  {
   "cell_type": "code",
   "execution_count": 0,
   "metadata": {
    "application/vnd.databricks.v1+cell": {
     "cellMetadata": {
      "byteLimit": 2048000,
      "rowLimit": 10000
     },
     "inputWidgets": {},
     "nuid": "f65d9350-e905-41a4-9f57-35e3b6ee0053",
     "showTitle": true,
     "tableResultSettingsMap": {},
     "title": "- Establish and Verify Neo4j Database Connection"
    }
   },
   "outputs": [],
   "source": [
    "driver = GraphDatabase.driver(uri, auth=(user, password))\n",
    "\n",
    "try:\n",
    "    driver.verify_connectivity()\n",
    "    print(\"Connection successful\")\n",
    "except Exception as e:\n",
    "    print(f\"Connection failed: {e}\")\n",
    "session=driver.session()"
   ]
  },
  {
   "cell_type": "code",
   "execution_count": 0,
   "metadata": {
    "application/vnd.databricks.v1+cell": {
     "cellMetadata": {
      "byteLimit": 2048000,
      "rowLimit": 10000
     },
     "inputWidgets": {},
     "nuid": "be8ba277-7444-42d2-a9ff-15298070b87d",
     "showTitle": true,
     "tableResultSettingsMap": {},
     "title": "- Initiate SparkSession in PySpark"
    }
   },
   "outputs": [],
   "source": [
    "from pyspark.sql import *\n",
    "\n",
    "spark = SparkSession.getActiveSession()\n",
    "if spark is None:\n",
    "    spark = SparkSession.builder.getOrCreate()"
   ]
  },
  {
   "cell_type": "code",
   "execution_count": 0,
   "metadata": {
    "application/vnd.databricks.v1+cell": {
     "cellMetadata": {
      "byteLimit": 2048000,
      "rowLimit": 10000
     },
     "inputWidgets": {},
     "nuid": "94c4981b-53a9-4e3b-8334-34edf3061459",
     "showTitle": false,
     "tableResultSettingsMap": {},
     "title": ""
    }
   },
   "outputs": [],
   "source": [
    "product_schema_query = \"CREATE CONSTRAINT unique_product FOR (n:product) REQUIRE n.product_id IS UNIQUE\"\n",
    "session.run(product_schema_query)\n",
    "\n",
    "customers_schema_query = \"CREATE CONSTRAINT unique_customer FOR (n:customer) REQUIRE n.customer_id IS UNIQUE\"\n",
    "session.run(customers_schema_query)\n",
    "\n",
    "sales_schema_query = \"CREATE CONSTRAINT unique_sale FOR ()-[r:brought]->() REQUIRE (r.sales_id) IS UNIQUE\"\n",
    "session.run(sales_schema_query)"
   ]
  },
  {
   "cell_type": "code",
   "execution_count": 0,
   "metadata": {
    "application/vnd.databricks.v1+cell": {
     "cellMetadata": {
      "byteLimit": 2048000,
      "rowLimit": 10000
     },
     "inputWidgets": {},
     "nuid": "932adbdd-cb04-4363-8318-7691c7da850d",
     "showTitle": true,
     "tableResultSettingsMap": {},
     "title": "- Load and Display Customer and Product Data"
    }
   },
   "outputs": [],
   "source": [
    "\n",
    "def load_data(spark,t_name):\n",
    "    return spark.table(t_name).collect()\n",
    "\n",
    "#Customer data\n",
    "customer_data=load_data(spark,'pro_customers')\n",
    "print(\"Customer data :-\\n\\tType : \",type(customer_data),\"\\n\\tTotal records : \",len(customer_data),\"\\n\\tSample data : \",customer_data[0])\n",
    "#Product data\n",
    "product_data=load_data(spark,'pro_products')\n",
    "print(\"\\nProduct data :-\\n\\tType : \",type(product_data),\"\\n\\tTotal records : \",len(product_data),\"\\n\\tSample data : \",product_data[0])\n",
    "#Sales data \n",
    "sales_data=load_data(spark,'pro_sales')\n",
    "print(\"\\nSales data :-\\n\\tType : \",type(sales_data),\"\\n\\tTotal records : \",len(sales_data),\"\\n\\tSample data : \",sales_data[0])\n"
   ]
  },
  {
   "cell_type": "code",
   "execution_count": 0,
   "metadata": {
    "application/vnd.databricks.v1+cell": {
     "cellMetadata": {
      "byteLimit": 2048000,
      "rowLimit": 10000
     },
     "inputWidgets": {},
     "nuid": "a85cdbaf-23b8-4f7b-9b90-cf08686226e3",
     "showTitle": true,
     "tableResultSettingsMap": {},
     "title": "Neo4j create query"
    }
   },
   "outputs": [],
   "source": [
    "create_customer_query='''CREATE (n:customer \n",
    "            {customer_id:$customer_id,\n",
    "            customer_name:$customer_name,\n",
    "            customer_age:$customer_age,\n",
    "            customer_address:$customer_address,\n",
    "            customer_city:$customer_city,\n",
    "            customer_state:$customer_state,\n",
    "            customer_zip:$customer_zip\n",
    "            })\n",
    "            return n'''\n",
    "\n",
    "create_product_query='''CREATE (n:product \n",
    "            {product_id:$product_id,\n",
    "            product_type:$product_type,\n",
    "            product_name:$product_name,\n",
    "            colour:$colour,\n",
    "            price:$price,\n",
    "            quantity:$quantity,\n",
    "            description:$description\n",
    "            })\n",
    "            return n'''\n",
    "\n",
    "create_relationship_query='''MATCH (c:customer),(p:product) \n",
    "            WHERE c.customer_id=$customer_id AND p.product_id=$product_id \n",
    "            CREATE (c)-[r:brought \n",
    "            {sales_id:$sales_id,\n",
    "            customer_id:$customer_id,\n",
    "            product_id:$product_id,\n",
    "            quantity:$quantity,\n",
    "            price_per_unit:$price_per_unit, \n",
    "            total_price:$total_price\n",
    "            }]->(p)\n",
    "            return properties(r)'''\n",
    "\n",
    "create_queries=[create_customer_query,create_product_query,create_relationship_query]"
   ]
  },
  {
   "cell_type": "code",
   "execution_count": 0,
   "metadata": {
    "application/vnd.databricks.v1+cell": {
     "cellMetadata": {
      "byteLimit": 2048000,
      "rowLimit": 10000
     },
     "inputWidgets": {},
     "nuid": "940174af-f2a1-4815-8204-be3d1983d92f",
     "showTitle": true,
     "tableResultSettingsMap": {},
     "title": "- Process and Insert Customer Data in Neo4j"
    }
   },
   "outputs": [],
   "source": [
    "#Row(customer_id=378, customer_name='Andy McPhillimey', gender='Bigender', age=48, home_address='40 Rose CircuitSuite 567', zip_code=7541, city='Abigailchester', state='New South Wales')\n",
    "for row in customer_data:\n",
    "    parameter={\n",
    "        'customer_id':row['customer_id'],\n",
    "        'customer_name':row['customer_name'],\n",
    "        'customer_age':row['age'],\n",
    "        'customer_address':row['home_address'],\n",
    "        'customer_city':row['city'],\n",
    "        'customer_state':row['state'],\n",
    "        'customer_zip':row['zip_code']\n",
    "    }\n",
    "    #print(parameter)\n",
    "    session.run(create_customer_query,parameter)\n",
    "    #break"
   ]
  },
  {
   "cell_type": "code",
   "execution_count": 0,
   "metadata": {
    "application/vnd.databricks.v1+cell": {
     "cellMetadata": {
      "byteLimit": 2048000,
      "rowLimit": 10000
     },
     "inputWidgets": {},
     "nuid": "a10637bf-c202-424b-b52a-5f61c676c05a",
     "showTitle": true,
     "tableResultSettingsMap": {},
     "title": "- Process and Insert Product Data in Neo4j"
    }
   },
   "outputs": [],
   "source": [
    "#Row(product_id=583, product_type='Jacket', product_name='Bomber', colour='blue', price=90, quantity=64, description='A blue coloured, L sized, Bomber Jacket')\n",
    "for row in product_data:\n",
    "    parameter={\n",
    "        'product_id':row['product_id'],\n",
    "        'product_type':row['product_type'],\n",
    "        'product_name':row['product_name'],\n",
    "        'colour':row['colour'],\n",
    "        'price':row['price'],\n",
    "        'quantity':row['quantity'],\n",
    "        'description':row['description']\n",
    "    }\n",
    "    #print(parameter)\n",
    "    session.run(create_product_query,parameter)\n",
    "    #break"
   ]
  },
  {
   "cell_type": "code",
   "execution_count": 0,
   "metadata": {
    "application/vnd.databricks.v1+cell": {
     "cellMetadata": {
      "byteLimit": 2048000,
      "rowLimit": 10000
     },
     "inputWidgets": {},
     "nuid": "39fee167-af37-4411-8ceb-2b0a98249d87",
     "showTitle": true,
     "tableResultSettingsMap": {},
     "title": "- Insert Sales Data into Neo4j Database"
    }
   },
   "outputs": [],
   "source": [
    "# Row(sales_id=0, product_id=218, customer_id=64, price_per_unit=106, quantity=2, total_price=212)\n",
    "for row in sales_data:\n",
    "    parameter={\n",
    "        'sales_id':row['sales_id'],\n",
    "        'customer_id':row['customer_id'],\n",
    "        'product_id':row['product_id'],\n",
    "        'quantity':row['quantity'],\n",
    "        'price_per_unit':row['price_per_unit'],\n",
    "        'total_price':row['total_price']\n",
    "    }\n",
    "    #print(parameter)\n",
    "    session.run(create_relationship_query,parameter)\n",
    "    #break"
   ]
  },
  {
   "cell_type": "code",
   "execution_count": 0,
   "metadata": {
    "application/vnd.databricks.v1+cell": {
     "cellMetadata": {
      "byteLimit": 2048000,
      "rowLimit": 10000
     },
     "inputWidgets": {},
     "nuid": "9b5de15c-98d9-4f1e-a507-93ab32bef7e5",
     "showTitle": true,
     "tableResultSettingsMap": {},
     "title": "- Query Customer and Product Data by Age and Price"
    }
   },
   "outputs": [],
   "source": [
    "query1='''MATCH (n:customer)-[r:brought {price_per_unit:90}]-> (m:product) order by n.customer_age return n limit 2'''   # .customer_age RETURN n.customer_name,n.customer_age,n.customer_city,m.product_name\n",
    "# df=session.run(query1).data()\n",
    "# print(df)\n",
    "\n",
    "query2='''MATCH (n:customer)-[r:brought {price_per_unit:90}]-> (m:product) order by n.customer_age return n.customer_name,n.customer_age,n.customer_city limit 2'''   # .customer_age RETURN n.customer_name,n.customer_age,n.customer_city,m.product_name\n",
    "# df=session.run(query2).data()\n",
    "# print('\\n\\n',df)\n",
    "\n",
    "query3='''MATCH (n:customer)-[r:brought {price_per_unit:90}]-> (m:product) order by n.customer_age return m limit 2'''   # .customer_age RETURN n.customer_name,n.customer_age,n.customer_city,m.product_name\n",
    "# df=session.run(query3).data()\n",
    "# print('\\n\\n',df[0])\n",
    "\n",
    "query4='''MATCH (n:customer)-[r:brought {price_per_unit:90}]-> (m:product) order by n.customer_age return n,m limit 2'''   # .customer_age RETURN n.customer_name,n.customer_age,n.customer_city,m.product_name\n",
    "# df=session.run(query4).data()\n",
    "# print('\\n\\n',df)\n",
    "\n",
    "query5='''MATCH (n:customer)-[r:brought {price_per_unit:90}]-> (m:product) order by n.customer_age return properties(n) AS customer, properties(r) AS sale, properties(m) AS product limit 2'''   # .customer_age RETURN n.customer_name,n.customer_age,n.customer_city,m.product_name\n",
    "# df=session.run(query5).data()\n",
    "# print('\\n\\n',df)"
   ]
  },
  {
   "cell_type": "code",
   "execution_count": 0,
   "metadata": {
    "application/vnd.databricks.v1+cell": {
     "cellMetadata": {
      "byteLimit": 2048000,
      "rowLimit": 10000
     },
     "inputWidgets": {},
     "nuid": "e55e4b12-c22c-425a-92a3-38a92000e18d",
     "showTitle": false,
     "tableResultSettingsMap": {},
     "title": ""
    }
   },
   "outputs": [],
   "source": [
    "def to_dataframe(spark,temp):\n",
    "    df=[]\n",
    "    split=False\n",
    "    for record in temp:\n",
    "        for k,v in record.items():\n",
    "            if(isinstance(v,dict) and len(record)==1):\n",
    "                df.append(v)\n",
    "            else:\n",
    "                if(len(record)>1):\n",
    "                    split=True\n",
    "                df.append(record)\n",
    "                break\n",
    "    return spark.createDataFrame(df)\n",
    "\n",
    "def result(spark,session,query):\n",
    "    temp=session.run(query).data()\n",
    "    return to_dataframe(spark,temp)\n",
    "    \n",
    "res=result(spark,session,query1)\n",
    "#res=spark.createDataFrame(res)\n",
    "res.show()"
   ]
  },
  {
   "cell_type": "markdown",
   "metadata": {
    "application/vnd.databricks.v1+cell": {
     "cellMetadata": {},
     "inputWidgets": {},
     "nuid": "7f3c6039-f580-4b96-a5f5-8f2f3facb186",
     "showTitle": false,
     "tableResultSettingsMap": {},
     "title": ""
    }
   },
   "source": [
    "Create Nodes/Relationship in the DB"
   ]
  },
  {
   "cell_type": "code",
   "execution_count": 0,
   "metadata": {
    "application/vnd.databricks.v1+cell": {
     "cellMetadata": {
      "byteLimit": 2048000,
      "rowLimit": 10000
     },
     "inputWidgets": {},
     "nuid": "6b461ab0-83d2-4ab7-ad99-a59f98f1bc70",
     "showTitle": false,
     "tableResultSettingsMap": {},
     "title": ""
    }
   },
   "outputs": [],
   "source": [
    "get_customer_id=lambda session:session.run(\"match (n:customer) return max(n.customer_id)+1 as  id\").data()[0]['id']\n",
    "get_product_id=lambda session:session.run(\"match (n:product) return max(n.product_id)+1 as  id\").data()[0]['id']\n",
    "get_sales_id=lambda session:session.run(\"match (n)-[r]->(m) return max(r.sales_id)+1 as  id\").data()[0]['id']"
   ]
  },
  {
   "cell_type": "code",
   "execution_count": 0,
   "metadata": {
    "application/vnd.databricks.v1+cell": {
     "cellMetadata": {
      "byteLimit": 2048000,
      "rowLimit": 10000
     },
     "inputWidgets": {},
     "nuid": "afe024ff-9e7a-477e-845a-053b025bdd77",
     "showTitle": true,
     "tableResultSettingsMap": {},
     "title": "- Gather and Input Parameters for Neo4j Nodes"
    }
   },
   "outputs": [],
   "source": [
    "def get_customer_params(session):\n",
    "    print(\"Enter customer details\")\n",
    "    customer_id=get_customer_id(session)\n",
    "    customer_name=input(\"Enter customer name : \")\n",
    "    customer_age=int(input(\"Enter customer age : \"))\n",
    "    customer_address=input(\"Enter customer address : \")\n",
    "    customer_city=input(\"Enter customer city : \")\n",
    "    customer_state=input(\"Enter customer state : \")\n",
    "    customer_zip=int(input(\"Enter customer zip : \"))\n",
    "    return {'customer_id':customer_id,\n",
    "            'customer_name':customer_name,\n",
    "            'customer_age':customer_age,\n",
    "            'customer_address':customer_address,\n",
    "            'customer_city':customer_city,\n",
    "            'customer_state':customer_state,\n",
    "            'customer_zip':customer_zip}\n",
    "\n",
    "def get_product_params(session):\n",
    "    print(\"Enter product details\")\n",
    "    product_id=get_product_id(session)\n",
    "    product_type=input(\"Enter product type : \")\n",
    "    product_name=input(\"Enter product name : \")\n",
    "    colour=input(\"Enter product colour : \")\n",
    "    price=int(input(\"Enter product price : \"))\n",
    "    quantity=int(input(\"Enter product quantity : \"))\n",
    "    description=input(\"Enter product description : \")\n",
    "    return {'product_id':product_id,\n",
    "            'product_type':product_type,\n",
    "            'product_name':product_name,\n",
    "            'colour':colour,\n",
    "            'price':price,\n",
    "            'quantity':quantity,\n",
    "            'description':description}\n",
    "\n",
    "def get_sale_params(session):\n",
    "    print(\"Enter sale details\")\n",
    "    sales_id=get_sales_id(session)\n",
    "    customer_id=int(input(\"Enter customer id : \"))\n",
    "    product_id=int(input(\"Enter product id : \"))\n",
    "    quantity=int(input(\"Enter quantity : \"))\n",
    "    price_per_unit=int(input(\"Enter price per unit : \"))\n",
    "    return {'sales_id':sales_id,\n",
    "            'customer_id':customer_id,\n",
    "            'product_id':product_id,\n",
    "            'quantity':quantity,\n",
    "            'price_per_unit':price_per_unit,\n",
    "            'total_price':quantity*price_per_unit}\n"
   ]
  },
  {
   "cell_type": "code",
   "execution_count": 0,
   "metadata": {
    "application/vnd.databricks.v1+cell": {
     "cellMetadata": {
      "byteLimit": 2048000,
      "rowLimit": 10000
     },
     "inputWidgets": {},
     "nuid": "834a5326-77be-40fb-84ed-cf6aec3f5f0f",
     "showTitle": false,
     "tableResultSettingsMap": {},
     "title": ""
    }
   },
   "outputs": [],
   "source": [
    "def create_node_relationship(spark,session,queries):\n",
    "    print(\"1.Customer\\n2.Product\\n3.Relationship\")\n",
    "    err=False\n",
    "    choice=int(input(\"Create what? : \"))\n",
    "    if(choice==1):\n",
    "        #parameter=get_customer_params()\n",
    "        data=session.run(queries[0],get_customer_params(session)).data()\n",
    "    elif(choice==2):\n",
    "        #parameter=get_product_params()\n",
    "        data=session.run(queries[1],get_product_params(session)).data()\n",
    "    elif(choice==3):\n",
    "        #parameter=get_sale_params()\n",
    "        data=session.run(queries[2],get_sale_params(session)).data()\n",
    "    else:\n",
    "        print(\"Invalid Choice.\")\n",
    "        err=True\n",
    "\n",
    "    if(not err):\n",
    "        print(\"Node/Relationship created successfully.\")\n",
    "        # return data\n",
    "        data=to_dataframe(spark,data)\n",
    "        data.show()\n",
    "        \n",
    "create_node_relationship(spark,session,create_queries)"
   ]
  },
  {
   "cell_type": "markdown",
   "metadata": {
    "application/vnd.databricks.v1+cell": {
     "cellMetadata": {},
     "inputWidgets": {},
     "nuid": "80a43387-a276-474c-954f-e031884f19ec",
     "showTitle": false,
     "tableResultSettingsMap": {},
     "title": ""
    }
   },
   "source": [
    "Print operations"
   ]
  },
  {
   "cell_type": "code",
   "execution_count": 0,
   "metadata": {
    "application/vnd.databricks.v1+cell": {
     "cellMetadata": {
      "byteLimit": 2048000,
      "rowLimit": 10000
     },
     "inputWidgets": {},
     "nuid": "53665266-83e9-47ff-803d-d79714575eb1",
     "showTitle": true,
     "tableResultSettingsMap": {},
     "title": "- Preview Customer, Product, and Sales Data"
    }
   },
   "outputs": [],
   "source": [
    "customer_preview = lambda session, cust_id: session.run(\n",
    "    \"MATCH (n:customer {customer_id: $customer_id}) RETURN n\", \n",
    "    customer_id=cust_id\n",
    ").data()[0]['n']\n",
    "customer_preview(session,1001)\n",
    "\n",
    "product_preview = lambda session, pro_id: session.run(\n",
    "    \"MATCH (p:product {product_id: $product_id}) RETURN  p\",\n",
    "    product_id=pro_id\n",
    ").data()[0]['p']\n",
    "product_preview(session,1259)\n",
    "\n",
    "sales_preview = lambda session, sales_id: session.run(\n",
    "    \"MATCH (n:customer)-[r:brought {sales_id:$sal_id}]->(m:product) return properties(r) as p \",\n",
    "    sal_id=sales_id\n",
    ").data()[0]['p']\n",
    "sales_preview(session,4993)"
   ]
  },
  {
   "cell_type": "markdown",
   "metadata": {
    "application/vnd.databricks.v1+cell": {
     "cellMetadata": {},
     "inputWidgets": {},
     "nuid": "44e3c64e-32e5-4759-b2ec-3075a9347197",
     "showTitle": false,
     "tableResultSettingsMap": {},
     "title": ""
    }
   },
   "source": [
    "Delete Operation"
   ]
  },
  {
   "cell_type": "code",
   "execution_count": 0,
   "metadata": {
    "application/vnd.databricks.v1+cell": {
     "cellMetadata": {
      "byteLimit": 2048000,
      "rowLimit": 10000
     },
     "inputWidgets": {},
     "nuid": "1b5eb7e2-483e-49f3-ad1e-bc43950314a3",
     "showTitle": false,
     "tableResultSettingsMap": {},
     "title": ""
    }
   },
   "outputs": [],
   "source": [
    "delete_customer_query='''match (n:customer {customer_id:$customer_id}) delete n'''\n",
    "delete_product_query='''match (n:product {product_id:$product_id}) delete n '''\n",
    "delete_sale_query='''match (n:customer)-[r:brought {sales_id:$sales_id}]->(m:product) delete r'''\n",
    "delete_queries=[delete_customer_query,delete_product_query,delete_sale_query]"
   ]
  },
  {
   "cell_type": "code",
   "execution_count": 0,
   "metadata": {
    "application/vnd.databricks.v1+cell": {
     "cellMetadata": {
      "byteLimit": 2048000,
      "rowLimit": 10000
     },
     "inputWidgets": {},
     "nuid": "23074c09-b59e-45eb-95a8-f66846561f13",
     "showTitle": false,
     "tableResultSettingsMap": {},
     "title": ""
    }
   },
   "outputs": [],
   "source": [
    "confirmation=lambda: input(\"Are u sure?(y/n)\")\n",
    "confirmation()"
   ]
  },
  {
   "cell_type": "code",
   "execution_count": 0,
   "metadata": {
    "application/vnd.databricks.v1+cell": {
     "cellMetadata": {
      "byteLimit": 2048000,
      "rowLimit": 10000
     },
     "inputWidgets": {},
     "nuid": "41657e16-d22a-4d18-b89b-c44696f13597",
     "showTitle": false,
     "tableResultSettingsMap": {},
     "title": ""
    }
   },
   "outputs": [],
   "source": [
    "def delete_Node_Relation(spark,session,query):\n",
    "  print(\"1.Customer\\n2.Product\\n3.Relationship\")\n",
    "  choice=int(input(\"Delete what? : \"))\n",
    "  del1=True\n",
    "  if(choice==1):\n",
    "    cust_id=int(input(\"Enter customer id : \"))\n",
    "    print(customer_preview(session,cust_id))\n",
    "    if(confirmation()=='y'):\n",
    "      session.run(query[0],{'customer_id':cust_id})\n",
    "    else:\n",
    "      del1=False\n",
    "  elif(choice==2):\n",
    "    pro_id=int(input(\"Enter product id : \"))\n",
    "    print(product_preview(session,pro_id))\n",
    "    if(confirmation()=='y'):\n",
    "      session.run(query[1],{'product_id':pro_id})\n",
    "    else:\n",
    "      del1=False\n",
    "  elif(choice==3):\n",
    "    sales_id=int(input(\"Enter sales id : \"))\n",
    "    print(sales_preview(session,sales_id))\n",
    "    if(confirmation()=='y'):\n",
    "      session.run(query[2],{'sales_id':sales_id})\n",
    "    else:\n",
    "      del1=False  \n",
    "  else:\n",
    "    print(\"Invalid Choice.\")\n",
    "    return\n",
    "  \n",
    "  if(del1):\n",
    "    print(\"Node/Relationship deleted successfully.\")\n",
    "  else:\n",
    "    print(\"Not deleted.\")\n",
    "\n",
    "\n",
    "delete_Node_Relation(spark,session,delete_queries)"
   ]
  },
  {
   "cell_type": "markdown",
   "metadata": {
    "application/vnd.databricks.v1+cell": {
     "cellMetadata": {},
     "inputWidgets": {},
     "nuid": "c7525f14-4050-4bbd-a5d9-747bae593099",
     "showTitle": false,
     "tableResultSettingsMap": {},
     "title": ""
    }
   },
   "source": [
    "Update Operation"
   ]
  },
  {
   "cell_type": "code",
   "execution_count": 0,
   "metadata": {
    "application/vnd.databricks.v1+cell": {
     "cellMetadata": {
      "byteLimit": 2048000,
      "rowLimit": 10000
     },
     "inputWidgets": {},
     "nuid": "6e347a32-c1d4-440f-820e-98b30a7f6e06",
     "showTitle": false,
     "tableResultSettingsMap": {},
     "title": ""
    }
   },
   "outputs": [],
   "source": [
    "update_customer_query='''match (n:customer {customer_id:$customer_id}) set n.customer_name=$customer_name,n.customer_age=$customer_age return n'''\n",
    "update_product_query='''match (n:product {product_id:$product_id}) set n.product_type=$product_type,n.product_name=$product_name,n.colour=$colour return n'''\n",
    "update_queries=[update_customer_query,update_product_query]"
   ]
  },
  {
   "cell_type": "code",
   "execution_count": 0,
   "metadata": {
    "application/vnd.databricks.v1+cell": {
     "cellMetadata": {},
     "inputWidgets": {},
     "nuid": "c01fc1c3-7397-4ffa-a286-ac205746b227",
     "showTitle": false,
     "tableResultSettingsMap": {},
     "title": ""
    }
   },
   "outputs": [],
   "source": [
    "def get_customer_params():\n",
    "    print(\"Enter customer details\")\n",
    "    customer_id=int(input(\"Enter customer id : \"))\n",
    "    customer_name=input(\"Enter customer name : \")\n",
    "    customer_age=int(input(\"Enter customer age : \"))\n",
    "    return {'customer_id':customer_id,\n",
    "            'customer_name':customer_name,\n",
    "            'customer_age':customer_age}\n",
    "\n",
    "def get_product_params():\n",
    "    print(\"Enter product details\")\n",
    "    product_id=int(input(\"Enter product id : \"))    \n",
    "    product_type=input(\"Enter product type : \")\n",
    "    product_name=input(\"Enter product name : \")\n",
    "    colour=input(\"Enter product colour : \")\n",
    "    return {'product_id':product_id,\n",
    "            'product_type':product_type,\n",
    "            'product_name':product_name,\n",
    "            'colour':colour}\n",
    "\n",
    "def update_Node_Relation(spark,session,query):\n",
    "  print(\"1.Customer\\n2.Product\")\n",
    "  choice=int(input(\"Update what? : \"))\n",
    "  if(choice==1):\n",
    "    data=session.run(query[0],get_customer_params()).data()\n",
    "  elif(choice==2):\n",
    "    data=session.run(query[1],get_product_params()).data()\n",
    "  else:\n",
    "    print(\"Invalid Choice.\")\n",
    "    return\n",
    "  \n",
    "  print(\"Node/Relationship updated successfully.\")\n",
    "  data=to_dataframe(spark,data)\n",
    "  data.show()\n",
    "\n",
    "update_Node_Relation(spark,session,update_queries)"
   ]
  },
  {
   "cell_type": "code",
   "execution_count": 0,
   "metadata": {
    "application/vnd.databricks.v1+cell": {
     "cellMetadata": {
      "byteLimit": 2048000,
      "rowLimit": 10000
     },
     "inputWidgets": {},
     "nuid": "7fd2dd6f-4c6f-4c0a-9096-7d6cca844237",
     "showTitle": true,
     "tableResultSettingsMap": {},
     "title": "- terminate session and driver"
    }
   },
   "outputs": [],
   "source": [
    "session.close()\n",
    "driver.close()"
   ]
  }
 ],
 "metadata": {
  "application/vnd.databricks.v1+notebook": {
   "computePreferences": null,
   "dashboards": [],
   "environmentMetadata": {
    "base_environment": "",
    "environment_version": "2"
   },
   "inputWidgetPreferences": null,
   "language": "python",
   "notebookMetadata": {
    "pythonIndentUnit": 4
   },
   "notebookName": "Neo4j Tutorial",
   "widgets": {}
  },
  "language_info": {
   "name": "python"
  }
 },
 "nbformat": 4,
 "nbformat_minor": 0
}
