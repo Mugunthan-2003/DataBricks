{
 "cells": [
  {
   "cell_type": "code",
   "execution_count": 0,
   "metadata": {
    "application/vnd.databricks.v1+cell": {
     "cellMetadata": {
      "byteLimit": 2048000,
      "rowLimit": 10000
     },
     "inputWidgets": {},
     "nuid": "e0a48180-18ef-4e86-a54a-45fad6c75289",
     "showTitle": true,
     "tableResultSettingsMap": {},
     "title": "Install pystardog Package for Stardog Integration"
    }
   },
   "outputs": [],
   "source": [
    "!pip install pystardog"
   ]
  },
  {
   "cell_type": "code",
   "execution_count": 0,
   "metadata": {
    "application/vnd.databricks.v1+cell": {
     "cellMetadata": {
      "byteLimit": 2048000,
      "rowLimit": 10000
     },
     "inputWidgets": {},
     "nuid": "59734f43-aa20-471f-8ca2-c5a17492dcfa",
     "showTitle": true,
     "tableResultSettingsMap": {},
     "title": "Initialize Libraries for Data Processing"
    }
   },
   "outputs": [],
   "source": [
    "import stardog\n",
    "import pandas as pd\n",
    "import json"
   ]
  },
  {
   "cell_type": "code",
   "execution_count": 0,
   "metadata": {
    "application/vnd.databricks.v1+cell": {
     "cellMetadata": {
      "byteLimit": 2048000,
      "rowLimit": 10000
     },
     "inputWidgets": {},
     "nuid": "d5c8b55e-9c37-41c8-b386-52afaf81a9a1",
     "showTitle": true,
     "tableResultSettingsMap": {},
     "title": "Load Credentials from JSON File"
    }
   },
   "outputs": [],
   "source": [
    "with open(\"Credentials.json\") as f:   # change file location\n",
    "    d = json.load(f)\n",
    "endpoint = d['endpoint']\n",
    "username = d['username']\n",
    "password = d['password']"
   ]
  },
  {
   "cell_type": "code",
   "execution_count": 0,
   "metadata": {
    "application/vnd.databricks.v1+cell": {
     "cellMetadata": {
      "byteLimit": 2048000,
      "rowLimit": 10000
     },
     "inputWidgets": {},
     "nuid": "237dfd68-8562-4628-ac25-ca00a3298cf9",
     "showTitle": true,
     "tableResultSettingsMap": {},
     "title": "Establish Database Read-Only Connection"
    }
   },
   "outputs": [],
   "source": [
    "# Connection settings for read-only user\n",
    "conn_details = {\n",
    "    'endpoint': endpoint, \n",
    "    'username': username,         \n",
    "    'password': password          \n",
    "}\n",
    "\n",
    "# Create the connection manually\n",
    "conn = stardog.Connection('Sales', **conn_details)"
   ]
  },
  {
   "cell_type": "code",
   "execution_count": 0,
   "metadata": {
    "application/vnd.databricks.v1+cell": {
     "cellMetadata": {
      "byteLimit": 2048000,
      "rowLimit": 10000
     },
     "inputWidgets": {},
     "nuid": "ac88397a-0011-433d-af26-fe3a8a0de085",
     "showTitle": true,
     "tableResultSettingsMap": {},
     "title": "Process and Display Query Results in DataFrame"
    }
   },
   "outputs": [],
   "source": [
    "def human_parse_results(results):\n",
    "    data=[]\n",
    "    head=results['head']['vars']\n",
    "    print(\"Total records : \",len(results['results'][\"bindings\"]))\n",
    "    # print(results['results'][\"bindings\"])\n",
    "    for i in results['results'][\"bindings\"]:\n",
    "        d1=[]\n",
    "        for j in head:\n",
    "            # print(i[j]['value'].split('#')[1])\n",
    "            d1.append(i[j]['value'])#.split('#')[1])\n",
    "            if(len(i[j]['value'].split('#'))==1):\n",
    "                print(i[j]['value'])\n",
    "        data.append(d1)\n",
    "    # print(data)\n",
    "    print(pd.DataFrame(data,columns=head))\n",
    "# human_parse_results(results)\n",
    "\n",
    "def get_results(conn,query):\n",
    "    try:\n",
    "        print(\"Query : \\n\",query)\n",
    "        results = conn.select(query,\n",
    "                      reasoning=True, \n",
    "                      named_graphs=['https://a.in/sales/data']  \n",
    "                      )\n",
    "        print(\"Output : \\n\",human_parse_results(results))\n",
    "        # return results\n",
    "        #human_parse_results(results)\n",
    "    except Exception as e:\n",
    "        print(e)"
   ]
  },
  {
   "cell_type": "code",
   "execution_count": 0,
   "metadata": {
    "application/vnd.databricks.v1+cell": {
     "cellMetadata": {
      "byteLimit": 2048000,
      "rowLimit": 10000
     },
     "inputWidgets": {},
     "nuid": "96af4bba-2c8e-4b16-a0b2-32918c699f12",
     "showTitle": true,
     "tableResultSettingsMap": {},
     "title": "Query Product Family and SKU Names with Limit 10"
    }
   },
   "outputs": [],
   "source": [
    "q_test=\"\"\"PREFIX ex: <https://a.in/sales/ontology#>\n",
    "            PREFIX data: <https://a.in/sales/data#>\n",
    "\n",
    "            SELECT DISTINCT ?productFamilyName ?skuName \n",
    "            from <https://a.in/sales/data>\n",
    "            WHERE \n",
    "            {  ?pf a ex:ProductFamily ;      \n",
    "                ex:productFamilyName ?productFamilyName ;      \n",
    "                ex:hasProductClass ?pc .  \n",
    "                ?pc ex:hasProductLine ?pl .  \n",
    "                ?pl ex:hasProductType ?pt .  \n",
    "                ?pt ex:hasBrand ?b .  \n",
    "                ?b ex:hasSKU ?sku .  \n",
    "                ?sku ex:skuName ?skuName .\n",
    "                }\n",
    "\n",
    "                limit 10\n",
    "            \"\"\"\n",
    "get_results(conn,q_test)"
   ]
  },
  {
   "cell_type": "code",
   "execution_count": 0,
   "metadata": {
    "application/vnd.databricks.v1+cell": {
     "cellMetadata": {
      "byteLimit": 2048000,
      "rowLimit": 10000
     },
     "inputWidgets": {},
     "nuid": "f51c8afc-efb4-46f2-b90d-71ad144a4f8f",
     "showTitle": true,
     "tableResultSettingsMap": {},
     "title": "Fetch Ontology Schema Using SPARQL Query"
    }
   },
   "outputs": [],
   "source": [
    "# get schema\n",
    "ont=\"https://a.in/sales/ontology\"\n",
    "q1=\"\"\"SELECT ?s ?p ?o\n",
    "from <{g}>\n",
    "WHERE {{\n",
    "?s ?p ?o\n",
    "}}\n",
    "\"\"\".format(g=ont)\n",
    "get_results(conn,q1)"
   ]
  },
  {
   "cell_type": "code",
   "execution_count": 0,
   "metadata": {
    "application/vnd.databricks.v1+cell": {
     "cellMetadata": {
      "byteLimit": 2048000,
      "rowLimit": 10000
     },
     "inputWidgets": {},
     "nuid": "c3956317-5db4-4428-bf3b-067ffb191caa",
     "showTitle": true,
     "tableResultSettingsMap": {},
     "title": "SPARQL Query to Retrieve Sales Data with Limit 40"
    }
   },
   "outputs": [],
   "source": [
    "graph = \"https://a.in/sales/data\"\n",
    "query = \"\"\"SELECT ?s ?p ?o\n",
    "FROM <{g}>\n",
    "WHERE {{\n",
    "?s ?p ?o\n",
    "}}\n",
    "LIMIT 40\n",
    "\"\"\".format(g=graph)\n",
    "get_results(conn,q1)"
   ]
  },
  {
   "cell_type": "code",
   "execution_count": 0,
   "metadata": {
    "application/vnd.databricks.v1+cell": {
     "cellMetadata": {
      "byteLimit": 2048000,
      "rowLimit": 10000
     },
     "inputWidgets": {},
     "nuid": "f7d3389e-bed5-4784-818d-963953dda59c",
     "showTitle": true,
     "tableResultSettingsMap": {},
     "title": "Close Database Connection"
    }
   },
   "outputs": [],
   "source": [
    "conn.close()"
   ]
  }
 ],
 "metadata": {
  "application/vnd.databricks.v1+notebook": {
   "computePreferences": null,
   "dashboards": [],
   "environmentMetadata": {
    "base_environment": "",
    "environment_version": "2"
   },
   "inputWidgetPreferences": null,
   "language": "python",
   "notebookMetadata": {
    "pythonIndentUnit": 4
   },
   "notebookName": "Stardog Connection",
   "widgets": {}
  },
  "language_info": {
   "name": "python"
  }
 },
 "nbformat": 4,
 "nbformat_minor": 0
}
